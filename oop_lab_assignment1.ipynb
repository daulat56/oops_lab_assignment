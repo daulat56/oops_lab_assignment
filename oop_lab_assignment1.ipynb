{
  "nbformat": 4,
  "nbformat_minor": 0,
  "metadata": {
    "colab": {
      "name": "Untitled1.ipynb",
      "provenance": [],
      "authorship_tag": "ABX9TyNrRp0EOOlvAV55KcvuYgwn",
      "include_colab_link": true
    },
    "kernelspec": {
      "name": "python3",
      "display_name": "Python 3"
    },
    "language_info": {
      "name": "python"
    }
  },
  "cells": [
    {
      "cell_type": "markdown",
      "metadata": {
        "id": "view-in-github",
        "colab_type": "text"
      },
      "source": [
        "<a href=\"https://colab.research.google.com/github/daulat56/oops_lab_assignment_1/blob/main/oop_lab_assignment1.ipynb\" target=\"_parent\"><img src=\"https://colab.research.google.com/assets/colab-badge.svg\" alt=\"Open In Colab\"/></a>"
      ]
    },
    {
      "cell_type": "markdown",
      "metadata": {
        "id": "nHYnCrp8op0_"
      },
      "source": [
        "problem 1"
      ]
    },
    {
      "cell_type": "code",
      "metadata": {
        "colab": {
          "base_uri": "https://localhost:8080/"
        },
        "id": "ITauHEQ8oob3",
        "outputId": "519d3fb4-0e4a-426c-b1fc-fc69fe6ddc3a"
      },
      "source": [
        "def leap_year(year):\n",
        "    if year%4==0:\n",
        "        return True\n",
        "    elif year%100==0 :\n",
        "        return False\n",
        "    elif year%400==0:\n",
        "         return True\n",
        "    else:\n",
        "        return \"not a leap year\"\n",
        "year=int(input(\"enter year:\"))\n",
        "print(leap_year(year))\n"
      ],
      "execution_count": 1,
      "outputs": [
        {
          "output_type": "stream",
          "name": "stdout",
          "text": [
            "enter year:38\n",
            "not a leap year\n"
          ]
        }
      ]
    },
    {
      "cell_type": "markdown",
      "metadata": {
        "id": "NLdp1AtZpMcG"
      },
      "source": [
        "problem 2\n"
      ]
    },
    {
      "cell_type": "code",
      "metadata": {
        "colab": {
          "base_uri": "https://localhost:8080/"
        },
        "id": "_Vxa34MRpPOd",
        "outputId": "e5c2c287-4ee3-405d-9254-8848a8f1c4d8"
      },
      "source": [
        "n=int(input(\"enter the num :\"))\n",
        "if n%2!=0:\n",
        "    print(\"not weird\")\n",
        "else:\n",
        "    if n in range(2,6):\n",
        "        print(\"not weird\")\n",
        "    elif n in range(6,21):\n",
        "        print(\"weird\")\n",
        "    else:\n",
        "        print(\"not weird\")"
      ],
      "execution_count": 2,
      "outputs": [
        {
          "output_type": "stream",
          "name": "stdout",
          "text": [
            "enter the num :5\n",
            "not weird\n"
          ]
        }
      ]
    },
    {
      "cell_type": "markdown",
      "metadata": {
        "id": "cogXIbA2pTy_"
      },
      "source": [
        "problem 3"
      ]
    },
    {
      "cell_type": "code",
      "metadata": {
        "colab": {
          "base_uri": "https://localhost:8080/"
        },
        "id": "fhvkYMdnpWIl",
        "outputId": "22164fa8-2c39-4250-a1a6-b6d89d308077"
      },
      "source": [
        "def even(attendees):\n",
        "  if (attendees % 2 == 0):\n",
        "    return attendees\n",
        "  else:\n",
        "    return (attendees + 1)/2\n",
        "\n",
        "list = []\n",
        "attendees = int(input(\"Enter the number of \"))\n",
        "for i in range (0,attendees):\n",
        "  name = str(input())\n",
        "  list.append(name)\n",
        "a = int(even(attendees))\n",
        "print(\"The guest who are fashionably late are\")\n",
        "for i in range(a,attendees):\n",
        "  print(list[i])"
      ],
      "execution_count": 3,
      "outputs": [
        {
          "output_type": "stream",
          "name": "stdout",
          "text": [
            "Enter the number of 7\n",
            "a\n",
            "b\n",
            "c\n",
            "d\n",
            "e\n",
            "f\n",
            "g\n",
            "The guest who are fashionably late are\n",
            "e\n",
            "f\n",
            "g\n"
          ]
        }
      ]
    },
    {
      "cell_type": "markdown",
      "metadata": {
        "id": "Yh5SZZHSptSt"
      },
      "source": [
        "problem 4"
      ]
    },
    {
      "cell_type": "code",
      "metadata": {
        "colab": {
          "base_uri": "https://localhost:8080/"
        },
        "id": "OVb19FLDpv11",
        "outputId": "2fd654db-3f0e-486b-e448-7fe8c0049d2a"
      },
      "source": [
        "users_input = input(\"Enter  word to search: \")\n",
        "doc_list = [\" The Learn Python Challenge Rohit \", \" They bought a car \", \" bangalore \"]\n",
        "\n",
        "for i in range(0,3):\n",
        "    if((\" \" + users_input.upper() + \" \") in doc_list[i].upper()):\n",
        "      print(doc_list[i])"
      ],
      "execution_count": 4,
      "outputs": [
        {
          "output_type": "stream",
          "name": "stdout",
          "text": [
            "Enter  word to search: rohit\n",
            " The Learn Python Challenge Rohit \n"
          ]
        }
      ]
    },
    {
      "cell_type": "markdown",
      "metadata": {
        "id": "Y8_WmMVWp41M"
      },
      "source": [
        "problem 5"
      ]
    },
    {
      "cell_type": "code",
      "metadata": {
        "colab": {
          "base_uri": "https://localhost:8080/"
        },
        "id": "RfVgwTJKp7el",
        "outputId": "f12c750e-e566-408d-fcd4-3fc4f7bff968"
      },
      "source": [
        "BP=int(input(\"enter employees basic pay\"))\n",
        "def gross_pay(BP):\n",
        "    DA=(40/100)*BP\n",
        "    HRA=(20/100)*BP\n",
        "    return DA+HRA+BP\n",
        "print(gross_pay(BP))   "
      ],
      "execution_count": 5,
      "outputs": [
        {
          "output_type": "stream",
          "name": "stdout",
          "text": [
            "enter employees basic pay100\n",
            "160.0\n"
          ]
        }
      ]
    }
  ]
}