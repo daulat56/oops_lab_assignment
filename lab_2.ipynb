{
  "nbformat": 4,
  "nbformat_minor": 0,
  "metadata": {
    "colab": {
      "name": "Untitled2.ipynb",
      "provenance": [],
      "authorship_tag": "ABX9TyOqg1cRR99YK1tWNQRLKOuF",
      "include_colab_link": true
    },
    "kernelspec": {
      "name": "python3",
      "display_name": "Python 3"
    },
    "language_info": {
      "name": "python"
    }
  },
  "cells": [
    {
      "cell_type": "markdown",
      "metadata": {
        "id": "view-in-github",
        "colab_type": "text"
      },
      "source": [
        "<a href=\"https://colab.research.google.com/github/daulat56/oops_lab_assignment/blob/main/lab_2.ipynb\" target=\"_parent\"><img src=\"https://colab.research.google.com/assets/colab-badge.svg\" alt=\"Open In Colab\"/></a>"
      ]
    },
    {
      "cell_type": "markdown",
      "metadata": {
        "id": "POw2gvYhf0dc"
      },
      "source": [
        ""
      ]
    },
    {
      "cell_type": "markdown",
      "metadata": {
        "id": "q34pCt_Pf2fl"
      },
      "source": [
        "problem 1"
      ]
    },
    {
      "cell_type": "code",
      "metadata": {
        "colab": {
          "base_uri": "https://localhost:8080/"
        },
        "id": "VBGqIuwbf4o7",
        "outputId": "d578544f-0af7-4de8-a5d2-4f79a6b16688"
      },
      "source": [
        "class Circle:\n",
        "    pi=3.14\n",
        "    def __init__(self,radius):\n",
        "        self.radius=radius\n",
        "    def perimeter(self):\n",
        "        return 2*Circle.pi*self.radius\n",
        "    def area(self):\n",
        "        return Circle.pi*self.radius*self.radius\n",
        "circle=Circle(7)\n",
        "print(circle.perimeter())\n",
        "print(circle.area())\n"
      ],
      "execution_count": 1,
      "outputs": [
        {
          "output_type": "stream",
          "name": "stdout",
          "text": [
            "43.96\n",
            "153.86\n"
          ]
        }
      ]
    },
    {
      "cell_type": "markdown",
      "metadata": {
        "id": "Hbo5njX_gJYE"
      },
      "source": [
        "problem 2"
      ]
    },
    {
      "cell_type": "code",
      "metadata": {
        "colab": {
          "base_uri": "https://localhost:8080/"
        },
        "id": "dp1iA3qOgLGL",
        "outputId": "9f5b53ef-86cf-4d1c-8a17-1da7c325a352"
      },
      "source": [
        "class Faculty:\n",
        "    def __init__(self,name,emp_ID,Branch,Salary):\n",
        "        self.name=name\n",
        "        self.emp_id=emp_ID\n",
        "        self.Branch=Branch\n",
        "        self.salary=Salary\n",
        "faculty_1=Faculty(\"Daulat jha\",\"MA102\",\"kankarbagh\",170000)\n",
        "print(faculty_1.__dict__)\n",
        "faculty_2=Faculty(\"keshav jha\",\"phy301\",\"kankarbagh\",180000)\n",
        "print(faculty_2.__dict__)\n",
        "faculty_3=Faculty(\"Rohit Raj\",\"chem302\",\"kushinagar\",140000)\n",
        "print(faculty_3.__dict__)\n",
        "faculty_4=Faculty(\"varun kumar\",\"chem203\",\"kantiifactory\",110000)\n",
        "print(faculty_4.__dict__)\n",
        "faculty_5=Faculty(\"Atul verma\",\"phy301\",\"kankarbagh\",170000)\n",
        "print(faculty_5.__dict__)"
      ],
      "execution_count": 2,
      "outputs": [
        {
          "output_type": "stream",
          "name": "stdout",
          "text": [
            "{'name': 'Daulat jha', 'emp_id': 'MA102', 'Branch': 'kankarbagh', 'salary': 170000}\n",
            "{'name': 'keshav jha', 'emp_id': 'phy301', 'Branch': 'kankarbagh', 'salary': 180000}\n",
            "{'name': 'Rohit Raj', 'emp_id': 'chem302', 'Branch': 'kushinagar', 'salary': 140000}\n",
            "{'name': 'varun kumar', 'emp_id': 'chem203', 'Branch': 'kantiifactory', 'salary': 110000}\n",
            "{'name': 'Atul verma', 'emp_id': 'phy301', 'Branch': 'kankarbagh', 'salary': 170000}\n"
          ]
        }
      ]
    },
    {
      "cell_type": "markdown",
      "metadata": {
        "id": "qkN9mK1vgUIM"
      },
      "source": [
        "problem 3"
      ]
    },
    {
      "cell_type": "code",
      "metadata": {
        "colab": {
          "base_uri": "https://localhost:8080/"
        },
        "id": "Iup9MwgjgV79",
        "outputId": "d8c8ad67-7cc4-4eff-ffff-d642435ac3e6"
      },
      "source": [
        "class Bank:\n",
        "    def __init__(self,account_num,account_holder,amount):\n",
        "        self.account_num=account_num\n",
        "        self.account_holder=account_holder\n",
        "        self.amount=amount\n",
        "    def Deposit(self,amount):\n",
        "        self.amount=amount+self.amount\n",
        "        print(\"the total amount is \",self.amount)\n",
        "        return amount\n",
        "    def Withdraw(self,amount):\n",
        "        self.amount=self.amount-amount\n",
        "        print(\"amount after withdrwal is:\",self.amount)\n",
        "        return amount\n",
        "    def check_balance(self):\n",
        "        print(\"the balance in the account is : \",self.amount)\n",
        "    def display_details(self):\n",
        "        print(\"the account holder name is:\",self.account_holder)\n",
        "        print(\"the account num is : \",self.account_num)\n",
        "        print(\"current balance in the account num {} is {}\".format(self.account_num,self.amount))\n",
        "person1=Bank(233098764342,\"daulat\",7800)\n",
        "person1.Deposit(200)\n",
        "person1.Withdraw(349)\n",
        "person1.check_balance()\n",
        "person1.display_details()"
      ],
      "execution_count": 3,
      "outputs": [
        {
          "output_type": "stream",
          "name": "stdout",
          "text": [
            "the total amount is  8000\n",
            "amount after withdrwal is: 7651\n",
            "the balance in the account is :  7651\n",
            "the account holder name is: daulat\n",
            "the account num is :  233098764342\n",
            "current balance in the account num 233098764342 is 7651\n"
          ]
        }
      ]
    },
    {
      "cell_type": "markdown",
      "metadata": {
        "id": "UsXHPdjMgeM0"
      },
      "source": [
        "problem 4"
      ]
    },
    {
      "cell_type": "code",
      "metadata": {
        "colab": {
          "base_uri": "https://localhost:8080/"
        },
        "id": "fAJVRY1-gga2",
        "outputId": "35564597-6ea4-43ce-e16f-307a4d748527"
      },
      "source": [
        "class Student:\n",
        "    def __init__(self,student_name,USN):\n",
        "        self.Name=student_name\n",
        "        self.USN=USN\n",
        "        self.Marks=[]\n",
        "    def marks(self):\n",
        "        for i in range (3):\n",
        "            a=int(input(\"enter the marks student got in subject--{} \".format(i+1)))\n",
        "            self.Marks.append(a)\n",
        "    def student_details(self):\n",
        "        print(\"student name is:\",self.Name)\n",
        "        print(\"student USN is : \",self.USN)\n",
        "        print(self.Name, \"got\" ,self.Marks)\n",
        "        \n",
        "Name=str(input(\"enter the name of student\"))\n",
        "USN=int(input(\"enter usn of student\"))\n",
        "student=Student(Name,USN)\n",
        "student.marks()\n",
        "student.student_details()\n"
      ],
      "execution_count": 4,
      "outputs": [
        {
          "output_type": "stream",
          "name": "stdout",
          "text": [
            "enter the name of studentdaulat\n",
            "enter usn of student037\n",
            "enter the marks student got in subject--1 1\n",
            "enter the marks student got in subject--2 2\n",
            "enter the marks student got in subject--3 3\n",
            "student name is: daulat\n",
            "student USN is :  37\n",
            "daulat got [1, 2, 3]\n"
          ]
        }
      ]
    },
    {
      "cell_type": "markdown",
      "metadata": {
        "id": "VjOfzIdmgq6d"
      },
      "source": [
        "problem 5"
      ]
    },
    {
      "cell_type": "code",
      "metadata": {
        "colab": {
          "base_uri": "https://localhost:8080/",
          "height": 498
        },
        "id": "rQbEzXhXgsq3",
        "outputId": "54820c11-589b-45b3-ae2f-6ec35b3b191a"
      },
      "source": [
        "class patient_details:\n",
        "  def _init_(self,name,admDate,symptoms,O2_level,dischDate):\n",
        "    self.name = name\n",
        "    self.admDate = admDate\n",
        "    self.symptoms = symptoms\n",
        "    self.O2_level = O2_level\n",
        "    self.dischDate = dischDate\n",
        "\n",
        "  def printdata(self):\n",
        "    print(\"Name: \",self.name)\n",
        "    print(\"Date of Adm.: \", self.admDate)\n",
        "    print(\"symptoms: \", self.symptoms)\n",
        "    print(\"O2 level: \", self.O2_level)\n",
        "    print(\"Date of discharge: \",self.dischDate)\n",
        "\n",
        "# lists\n",
        "name = []\n",
        "admdate =[]\n",
        "symp = []\n",
        "o2 = []\n",
        "dischdate = []\n",
        "ward =[]\n",
        "global n\n",
        "n = int(input(\"Enter no of patients: \"))\n",
        "\n",
        "def enterInfo():\n",
        "  print(\"Enter patients' Info >>\")\n",
        "  for i in range(0,n):\n",
        "    name.append(input(\"Enter name: \"))\n",
        "    admdate.append(input(\"Enter date of adm: \"))\n",
        "    symp.append(input(\"Enter patient's symptoms: \"))\n",
        "\n",
        "    oxy = int(input(\"O2 Level: \"))\n",
        "    o2.append(oxy)\n",
        "    if(oxy < 90):\n",
        "      ward.append(\"oxygen support\")\n",
        "    else:\n",
        "      ward.append(\"general\")\n",
        "    dischdate.append(input(\"Enter discharge date: \"))\n",
        "\n",
        "def checksev():\n",
        "  print('Severe patients are: ')\n",
        "  for i in range(n):\n",
        "    if(o2[i]<90):\n",
        "      print(name[i])\n",
        "\n",
        "#patients req oxygen support\n",
        "def reqO2():\n",
        "  count=0\n",
        "  print(\"Patients who need oxygen support: \")\n",
        "  for i in range(n):\n",
        "    if(ward[i]==\"oxygen support\"):\n",
        "      print(name[i])\n",
        "      count = count + 1\n",
        "  print(\"Total: \",count)\n",
        "\n",
        "#no of patients in general ward for observation\n",
        "def generalward():\n",
        "  count=0\n",
        "  print(\"Patients in general ward for observation: \")\n",
        "  for i in range(n):\n",
        "    if(ward[i]==\"general\"):\n",
        "      print(name[i])\n",
        "      count = count+1\n",
        "  print(\"Total: \",count)\n",
        "\n",
        "# no of patients admitted\n",
        "def totaladmitted():\n",
        "  print(\"Admitted patients are: \")\n",
        "  print(name)\n",
        "  print(\"Total: \",n)\n",
        "\n",
        "enterInfo()\n",
        "\n",
        "checksev()\n",
        "\n",
        "reqO2()\n",
        "\n",
        "generalward()\n",
        "totaladmitted()\n",
        "print(\"Patient Details:\")\n",
        "for i in range(n):\n",
        "  pt = patient_details(name[i],admdate[i],symp[i],o2[i],dischdate[i])\n",
        "  pt.printdata()"
      ],
      "execution_count": 10,
      "outputs": [
        {
          "output_type": "stream",
          "name": "stdout",
          "text": [
            "Enter no of patients: 1\n",
            "Enter patients' Info >>\n",
            "Enter name: daulat\n",
            "Enter date of adm: 9/9/2021\n",
            "Enter patient's symptoms: headache\n",
            "O2 Level: 99\n",
            "Enter discharge date: 10/10/2021\n",
            "Severe patients are: \n",
            "Patients who need oxygen support: \n",
            "Total:  0\n",
            "Patients in general ward for observation: \n",
            "daulat\n",
            "Total:  1\n",
            "Admitted patients are: \n",
            "['daulat']\n",
            "Total:  1\n",
            "Patient Details:\n"
          ]
        },
        {
          "output_type": "error",
          "ename": "TypeError",
          "evalue": "ignored",
          "traceback": [
            "\u001b[0;31m---------------------------------------------------------------------------\u001b[0m",
            "\u001b[0;31mTypeError\u001b[0m                                 Traceback (most recent call last)",
            "\u001b[0;32m<ipython-input-10-156a4a7f4d1b>\u001b[0m in \u001b[0;36m<module>\u001b[0;34m()\u001b[0m\n\u001b[1;32m     81\u001b[0m \u001b[0mprint\u001b[0m\u001b[0;34m(\u001b[0m\u001b[0;34m\"Patient Details:\"\u001b[0m\u001b[0;34m)\u001b[0m\u001b[0;34m\u001b[0m\u001b[0;34m\u001b[0m\u001b[0m\n\u001b[1;32m     82\u001b[0m \u001b[0;32mfor\u001b[0m \u001b[0mi\u001b[0m \u001b[0;32min\u001b[0m \u001b[0mrange\u001b[0m\u001b[0;34m(\u001b[0m\u001b[0mn\u001b[0m\u001b[0;34m)\u001b[0m\u001b[0;34m:\u001b[0m\u001b[0;34m\u001b[0m\u001b[0;34m\u001b[0m\u001b[0m\n\u001b[0;32m---> 83\u001b[0;31m   \u001b[0mpt\u001b[0m \u001b[0;34m=\u001b[0m \u001b[0mpatient_details\u001b[0m\u001b[0;34m(\u001b[0m\u001b[0mname\u001b[0m\u001b[0;34m[\u001b[0m\u001b[0mi\u001b[0m\u001b[0;34m]\u001b[0m\u001b[0;34m,\u001b[0m\u001b[0madmdate\u001b[0m\u001b[0;34m[\u001b[0m\u001b[0mi\u001b[0m\u001b[0;34m]\u001b[0m\u001b[0;34m,\u001b[0m\u001b[0msymp\u001b[0m\u001b[0;34m[\u001b[0m\u001b[0mi\u001b[0m\u001b[0;34m]\u001b[0m\u001b[0;34m,\u001b[0m\u001b[0mo2\u001b[0m\u001b[0;34m[\u001b[0m\u001b[0mi\u001b[0m\u001b[0;34m]\u001b[0m\u001b[0;34m,\u001b[0m\u001b[0mdischdate\u001b[0m\u001b[0;34m[\u001b[0m\u001b[0mi\u001b[0m\u001b[0;34m]\u001b[0m\u001b[0;34m)\u001b[0m\u001b[0;34m\u001b[0m\u001b[0;34m\u001b[0m\u001b[0m\n\u001b[0m\u001b[1;32m     84\u001b[0m   \u001b[0mpt\u001b[0m\u001b[0;34m.\u001b[0m\u001b[0mprintdata\u001b[0m\u001b[0;34m(\u001b[0m\u001b[0;34m)\u001b[0m\u001b[0;34m\u001b[0m\u001b[0;34m\u001b[0m\u001b[0m\n",
            "\u001b[0;31mTypeError\u001b[0m: patient_details() takes no arguments"
          ]
        }
      ]
    },
    {
      "cell_type": "markdown",
      "metadata": {
        "id": "qFnKIz3Dh_wt"
      },
      "source": [
        "problem 6"
      ]
    },
    {
      "cell_type": "code",
      "metadata": {
        "colab": {
          "base_uri": "https://localhost:8080/"
        },
        "id": "42S73_67iBl-",
        "outputId": "9b3bba0a-f50b-4d5d-8a0f-61116b1095e9"
      },
      "source": [
        "class Time:\n",
        "    def initial(self):\n",
        "        self.hours=0\n",
        "        self.miutes=0\n",
        "        self.seconds=0\n",
        "    def current_time(self,hours,minutes,seconds):\n",
        "        if seconds>59:\n",
        "            t=seconds\n",
        "            seconds=seconds\n",
        "            self.seconds=seconds\n",
        "            self.minutes=t+minutes\n",
        "        elif minutes>59:\n",
        "            t=minutes\n",
        "            minutes=minutes\n",
        "            self.minutes=minutes\n",
        "            self.hours=hours+t\n",
        "        else:\n",
        "            self.seconds=seconds\n",
        "            self.minutes=minutes\n",
        "            self.hours=hours   \n",
        "    def display(self):\n",
        "        print(\"the current time is \",self.hours,'::',self.minutes,'::',self.seconds)\n",
        "time=Time()\n",
        "time.current_time(1,53,23)\n",
        "time.display()"
      ],
      "execution_count": 11,
      "outputs": [
        {
          "output_type": "stream",
          "name": "stdout",
          "text": [
            "the current time is  1 :: 53 :: 23\n"
          ]
        }
      ]
    },
    {
      "cell_type": "markdown",
      "metadata": {
        "id": "dsuUT4CpiGYN"
      },
      "source": [
        "problem 7"
      ]
    },
    {
      "cell_type": "code",
      "metadata": {
        "colab": {
          "base_uri": "https://localhost:8080/"
        },
        "id": "KuVYWhwsiIbH",
        "outputId": "82a454d2-744a-44f2-dc71-b0681cca4efd"
      },
      "source": [
        "class Student:\n",
        "    def __init__(self,name,age,roll_no):\n",
        "        self.name=name\n",
        "        self.age=age\n",
        "        self.roll=roll_no\n",
        "    def comparison(student1,student2):\n",
        "        if student1.age==student2.age:\n",
        "            print(\"they are of same of same age\")\n",
        "        else:\n",
        "            print(\"they are not of same age\")\n",
        "student1=Student(\"rohit\",22,74)\n",
        "student2=Student(\"Rahul\",21,33)\n",
        "Student.comparison(student1,student2)"
      ],
      "execution_count": 12,
      "outputs": [
        {
          "output_type": "stream",
          "name": "stdout",
          "text": [
            "they are not of same age\n"
          ]
        }
      ]
    },
    {
      "cell_type": "markdown",
      "metadata": {
        "id": "x6dDlwqGiMwl"
      },
      "source": [
        "problem 8"
      ]
    },
    {
      "cell_type": "code",
      "metadata": {
        "colab": {
          "base_uri": "https://localhost:8080/"
        },
        "id": "FxEyyTXdiOpA",
        "outputId": "24b1c7aa-a9dd-4c3b-e74d-f8340abb7f63"
      },
      "source": [
        "class Student:\n",
        "    sem=\"3rd\"\n",
        "    institute=\"IIIT Dharwad\"\n",
        "    def __init__(self,name, usn):\n",
        "        self.name=name\n",
        "        self.usn=usn\n",
        "    def display(self):\n",
        "        print(\"name--\",self.name)\n",
        "        print(\"usn--\",self.usn)\n",
        "    @classmethod\n",
        "    def c_m(cls):\n",
        "        print(\"semester--\",cls.sem)\n",
        "        print(\"institute name--\",cls.institute)\n",
        "    @staticmethod\n",
        "    def exp():\n",
        "        print(\"about the class\")\n",
        "student=Student([\"rohit,rahul,rishabh\"],[3,4,5])\n",
        "student.display()\n",
        "student.c_m()\n",
        "student.exp()"
      ],
      "execution_count": 13,
      "outputs": [
        {
          "output_type": "stream",
          "name": "stdout",
          "text": [
            "name-- ['rohit,rahul,rishabh']\n",
            "usn-- [3, 4, 5]\n",
            "semester-- 3rd\n",
            "institute name-- IIIT Dharwad\n",
            "about the class\n"
          ]
        }
      ]
    },
    {
      "cell_type": "markdown",
      "metadata": {
        "id": "OepqK2vliUOP"
      },
      "source": [
        "problem 9"
      ]
    },
    {
      "cell_type": "code",
      "metadata": {
        "colab": {
          "base_uri": "https://localhost:8080/"
        },
        "id": "Fj1uTUnkiV08",
        "outputId": "a145d2bb-7b92-4df9-e3e2-ca5b9d330c71"
      },
      "source": [
        "class student:\n",
        "  def set_details(self):\n",
        "    self.name = str(input(\"Set the name of student - \"))\n",
        "    self.roll_no = int(input(\"Set the roll no of student - \"))\n",
        "    self.sem = int(input(\"Set the semister of student - \"))\n",
        "    self.n = int(input(\"Set the not laptop student has - \"))\n",
        "    self.listdisplay = []\n",
        "    for i in range(0,self.n):\n",
        "      l = self.laptop()\n",
        "      self.listdisplay.append(l)\n",
        "\n",
        "  class laptop:\n",
        "    def __init__(self):\n",
        "      self.cpu = str(input(\"Name of CUP - \"))\n",
        "      self.ram = int(input(\"Set the size of RAM avaliable - \"))\n",
        "      self.hard_disc = int(input(\"enter the size of hard disc (in GB) - \"))\n",
        "\n",
        "    def get_info(self):\n",
        "      print(\"CPU - \",self.cpu,\"\\nRAM - \",self.ram,\"\\nHard disc - \",self.hard_disc)\n",
        "\n",
        "  def get_details(self):\n",
        "    print(\"Name - \",self.name,\"\\nRoll no - \",self.roll_no,\"\\nSem - \",self.sem)\n",
        "    for i in range(0,self.n):\n",
        "      print(\"Details of Laptop \\n\")\n",
        "      self.listdisplay[i].get_info()\n",
        "\n",
        "s1 = student()\n",
        "s1.set_details()\n",
        "s1.get_details()"
      ],
      "execution_count": 15,
      "outputs": [
        {
          "output_type": "stream",
          "name": "stdout",
          "text": [
            "Set the name of student - daulat\n",
            "Set the roll no of student - 037\n",
            "Set the semister of student - 3\n",
            "Set the not laptop student has - 1\n",
            "Name of CUP - i3\n",
            "Set the size of RAM avaliable - 64\n",
            "enter the size of hard disc (in GB) - 256\n",
            "Name -  daulat \n",
            "Roll no -  37 \n",
            "Sem -  3\n",
            "Details of Laptop \n",
            "\n",
            "CPU -  i3 \n",
            "RAM -  64 \n",
            "Hard disc -  256\n"
          ]
        }
      ]
    },
    {
      "cell_type": "markdown",
      "metadata": {
        "id": "XbkZwj9Bh9SF"
      },
      "source": [
        ""
      ]
    },
    {
      "cell_type": "code",
      "metadata": {
        "id": "F1Yejwr3fyut"
      },
      "source": [
        ""
      ],
      "execution_count": null,
      "outputs": []
    }
  ]
}