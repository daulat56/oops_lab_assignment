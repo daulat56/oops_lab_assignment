{
  "nbformat": 4,
  "nbformat_minor": 0,
  "metadata": {
    "colab": {
      "name": "Untitled3.ipynb",
      "provenance": [],
      "authorship_tag": "ABX9TyNYs+kfU0ThNA7ciba91GeX",
      "include_colab_link": true
    },
    "kernelspec": {
      "name": "python3",
      "display_name": "Python 3"
    },
    "language_info": {
      "name": "python"
    }
  },
  "cells": [
    {
      "cell_type": "markdown",
      "metadata": {
        "id": "view-in-github",
        "colab_type": "text"
      },
      "source": [
        "<a href=\"https://colab.research.google.com/github/daulat56/oops_lab_assignment/blob/main/lab_task.ipynb\" target=\"_parent\"><img src=\"https://colab.research.google.com/assets/colab-badge.svg\" alt=\"Open In Colab\"/></a>"
      ]
    },
    {
      "cell_type": "markdown",
      "metadata": {
        "id": "SiQEXt_1NXa8"
      },
      "source": [
        "problem 1"
      ]
    },
    {
      "cell_type": "code",
      "metadata": {
        "colab": {
          "base_uri": "https://localhost:8080/"
        },
        "id": "G6fPC6RrNY5V",
        "outputId": "b1b243a4-7597-489f-9691-9c380ff5e42e"
      },
      "source": [
        "class student:\n",
        "  def set_details(self):\n",
        "    self.name = str(input(\"Enter the name of student - \"))\n",
        "    self.reg_no = str(input(\"Enter the reg no - \"))\n",
        "    self.age = int(input(\"Enter the age - \"))\n",
        "    self.gender = str(input(\"Enter the gender - \"))\n",
        "    self.branch = str(input(\"Enter the branch - \"))\n",
        "    self.sem = int(input(\"enter the semister  - \"))\n",
        "\n",
        "  def get_details(self):\n",
        "    print(\"Name - \",self.name,\"\\nReg. No. - \",self.reg_no,\"\\nAge - \",self.age,\"\\nGender - \",self.gender,\"\\nBranch - \",self.branch,\"\\nSem - \",self.sem)\n",
        "  \n",
        "class studentresultinfo(student):\n",
        "  def set_result(self):\n",
        "    self.total_marks = int(input(\"Enter student total marks - \"))\n",
        "    self.percentage = int(input(\"Enter student percentage - \"))\n",
        "    self.grade = str(input(\"Enter the grede of student - \"))\n",
        "\n",
        "  def get_result(self):\n",
        "    print(\"Total marks - \",self.total_marks,\"\\nPercentage - \",self.percentage,\"\\nGrade - \",self.grade)\n",
        "\n",
        "print(\"Display using inherited class\")\n",
        "s1 = studentresultinfo()\n",
        "s1.set_details()\n",
        "s1.set_result()\n",
        "s1.get_details()\n",
        "s1.get_result()"
      ],
      "execution_count": 2,
      "outputs": [
        {
          "output_type": "stream",
          "name": "stdout",
          "text": [
            "Display using inherited class\n",
            "Enter the name of student - daulat\n",
            "Enter the reg no - 37\n",
            "Enter the age - 19\n",
            "Enter the gender - male\n",
            "Enter the branch - cse\n",
            "enter the semister  - 3\n",
            "Enter student total marks - 780\n",
            "Enter student percentage - 82\n",
            "Enter the grede of student - b\n",
            "Name -  daulat \n",
            "Reg. No. -  37 \n",
            "Age -  19 \n",
            "Gender -  male \n",
            "Branch -  cse \n",
            "Sem -  3\n",
            "Total marks -  780 \n",
            "Percentage -  82 \n",
            "Grade -  b\n"
          ]
        }
      ]
    },
    {
      "cell_type": "markdown",
      "metadata": {
        "id": "l8kFCDB0N7x3"
      },
      "source": [
        "problem 2\n"
      ]
    },
    {
      "cell_type": "code",
      "metadata": {
        "colab": {
          "base_uri": "https://localhost:8080/"
        },
        "id": "_GtxAT0HN9So",
        "outputId": "d6f78d3b-0fe0-4029-8004-c03757f974fa"
      },
      "source": [
        "class PDFs:\n",
        "  def set_pdf_details(self,creator,dis,size):\n",
        "    self.creator = creator\n",
        "    self.dis = dis\n",
        "    self.size = size\n",
        "  def get_pdf_details(self):\n",
        "    print(\"Creator - \",self.creator,\"\\nDiscription - \",self.dis,\"\\nFile size - \",self.size)\n",
        "\n",
        "class document(PDFs):\n",
        "  def Pictures(self,creator,dis,size):\n",
        "    self.creator = creator\n",
        "    self.dis = dis\n",
        "    self.dimension = []\n",
        "    for i in range(2):\n",
        "      a = int(input(\"Enter the dimension - \"))\n",
        "      self.dimension.append(a)\n",
        "    self.size = size\n",
        "  def pdf(self,creator,dis,size):\n",
        "    PDFs.set_pdf_details(self,creator,dis,size)\n",
        "  def check_size(self):\n",
        "    if self.size >= 500:\n",
        "      print(\"Please upload the document of size less than 500 KB\")\n",
        "    else:\n",
        "      print(\"Document is uploaded\")\n",
        "  def display_pdfs(self):\n",
        "    super().get_pdf_details()\n",
        "  def display_pictures(self):\n",
        "      print(\"Creator - \",self.creator,\"\\nDiscription - \",self.dis,\"\\nDimensions - \",self.dimension,\"\\nFile size - \",self.size)\n",
        "  def checkdimension(self):\n",
        "    for i in range(2):\n",
        "      if self.dimension[i] >= 1000:\n",
        "        print(\"Please upload picture with dimension 1000 X 1000 pixels or less\")\n",
        "        break\n",
        "      else:\n",
        "        print(\"Picture dimension is accepted\")\n",
        "\n",
        "d1 = document()\n",
        "d1.Pictures(\"rakesh\",\"image\",670)\n",
        "d1.pdf(\"rakesh\",\"image\",670)\n",
        "d1.display_pdfs()\n",
        "d1.display_pictures()\n",
        "d1.check_size()\n",
        "d1.checkdimension()"
      ],
      "execution_count": 4,
      "outputs": [
        {
          "output_type": "stream",
          "name": "stdout",
          "text": [
            "Enter the dimension - 1000\n",
            "Enter the dimension - 400\n",
            "Creator -  Ram \n",
            "Discription -  xyz \n",
            "File size -  450\n",
            "Creator -  Ram \n",
            "Discription -  xyz \n",
            "Dimensions -  [1000, 400] \n",
            "File size -  450\n",
            "Document is uploaded\n",
            "Please upload picture with dimension 1000 X 1000 pixels or less\n"
          ]
        }
      ]
    },
    {
      "cell_type": "markdown",
      "metadata": {
        "id": "c80Emb-tOJAp"
      },
      "source": [
        "problem 3"
      ]
    },
    {
      "cell_type": "code",
      "metadata": {
        "id": "5Z_kIZcGONaR"
      },
      "source": [
        "class vehicle:\n",
        "    def __init__(self, name, mileage, capacity):\n",
        "        self.name = name\n",
        "        self.mileage = mileage\n",
        "        self.capacity = capacity\n",
        "\n",
        "    def total_fare(self):\n",
        "        return self.capacity * 100\n",
        "\n",
        "class bus(vehicle):\n",
        "    def __init__(self, name, mileage, capacity=50):\n",
        "        vehicle.__init__(self, name, mileage, capacity)\n",
        "        self.final_amount = vehicle.total_fare(self) + vehicle.total_fare(self) * 0.1\n",
        "\n",
        "    def bus_fare(self):\n",
        "        print(\"Final amount - \",self.final_amount)\n",
        "\n",
        "c1 = vehicle(\"Wheel steal\", 25, 10)\n",
        "b1 = bus(\"Big car\", 20)\n",
        "print(\"Car Fare - \",c1.total_fare())\n",
        "b1.bus_fare()"
      ],
      "execution_count": null,
      "outputs": []
    }
  ]
}