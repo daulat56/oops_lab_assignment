{
  "nbformat": 4,
  "nbformat_minor": 0,
  "metadata": {
    "colab": {
      "name": "Untitled5.ipynb",
      "provenance": [],
      "authorship_tag": "ABX9TyMdAPCmMdHuQoLnPqf0v9ta",
      "include_colab_link": true
    },
    "kernelspec": {
      "name": "python3",
      "display_name": "Python 3"
    },
    "language_info": {
      "name": "python"
    }
  },
  "cells": [
    {
      "cell_type": "markdown",
      "metadata": {
        "id": "view-in-github",
        "colab_type": "text"
      },
      "source": [
        "<a href=\"https://colab.research.google.com/github/daulat56/oops_lab_assignment/blob/main/oop_task-05.ipynb\" target=\"_parent\"><img src=\"https://colab.research.google.com/assets/colab-badge.svg\" alt=\"Open In Colab\"/></a>"
      ]
    },
    {
      "cell_type": "markdown",
      "metadata": {
        "id": "y0yNxpHZ_fGG"
      },
      "source": [
        "Problem 1:\n",
        "Write a Python programme to create the parent class shape, derive the subclasses circle,\n",
        "square, and rectangle from the class shape, and demonstrate polymorphism in inheritance\n",
        "using a member function area ()."
      ]
    },
    {
      "cell_type": "code",
      "metadata": {
        "colab": {
          "base_uri": "https://localhost:8080/"
        },
        "id": "WB69HR1N_omu",
        "outputId": "60071b01-235c-4dd3-a35f-be30525da3bf"
      },
      "source": [
        "from math import pi\n",
        "class Shape:\n",
        "    def area():\n",
        "        pass\n",
        "class circle(Shape):\n",
        "    def __init__(self,radius):\n",
        "        self.radius=radius\n",
        "    def area(self):\n",
        "        area=pi*(self.radius)**2\n",
        "        print(\"the area of circle is :\",area)\n",
        "class Square(Shape):\n",
        "    def __init__(self,side):\n",
        "        self.side=side\n",
        "    def area(self):\n",
        "        area=self.side*self.side\n",
        "        print(\"area of square is :\",area)\n",
        "class ractangle(Shape):\n",
        "    def __init__(self,length,breadth):\n",
        "        self.length=length\n",
        "        self.breadth=breadth\n",
        "    def area(self):\n",
        "        area=self.length*self.breadth\n",
        "        print(\"area of ractangle is:\",area)\n",
        "shape1=circle(2)\n",
        "shape1.area()\n",
        "shape2=Square(4)\n",
        "shape2.area()\n",
        "shape3=ractangle(3,4)\n",
        "shape3.area()\n"
      ],
      "execution_count": 1,
      "outputs": [
        {
          "output_type": "stream",
          "name": "stdout",
          "text": [
            "the area of circle is : 12.566370614359172\n",
            "area of square is : 16\n",
            "area of ractangle is: 12\n"
          ]
        }
      ]
    },
    {
      "cell_type": "markdown",
      "metadata": {
        "id": "vIIkp2vgAKfm"
      },
      "source": [
        "Problm 2:\n",
        "The family has decided to travel by road from Dharwad to Belagavi, and they have\n",
        "chosen to estimate the cost before starting on this journey. Write python code to create\n",
        "the parent class Travel with member functions include the number of passengers, the\n",
        "distance travelled, and the mode of transportation. Derive two subclasses, train and bus,\n",
        "from the parent class, each with a member function that calculates the cost of trip. Also,\n",
        "keep the numbers of passengers as a private member of the parent class and try to access\n",
        "it through the child class to estimate costs."
      ]
    },
    {
      "cell_type": "code",
      "metadata": {
        "colab": {
          "base_uri": "https://localhost:8080/"
        },
        "id": "xA9159raAS3A",
        "outputId": "7c7ff35d-0987-4201-b6bf-d073230dfcab"
      },
      "source": [
        "class Travel:\n",
        "    def __init__(self, no_of_passengers, distance, mode_of_transpotation):\n",
        "        self.no_of_passengers = no_of_passengers\n",
        "        self.distance = distance\n",
        "        self.mode_of_transpotation = mode_of_transpotation\n",
        "    def Passengers(self):\n",
        "        return self.no_of_passengers\n",
        "class Bus(Travel):\n",
        "    def cost_of_trip(self,cost_per_person = 100):\n",
        "        self.cost_per_person = cost_per_person\n",
        "        return (self.Passengers() * self.cost_per_person)\n",
        "class Train(Travel):\n",
        "    def cost_of_trip(self,cost_per_person = 60):\n",
        "        self.cost_per_person = cost_per_person\n",
        "        return (self.Passengers() * self.cost_per_person)\n",
        "b1 = Bus(4, 100, \"Bus\")\n",
        "print(f\"Cost to travel from Bus :\",b1.cost_of_trip())\n",
        "t1 = Train(4, 100, \"Train\")\n",
        "print(\"Cost to travel from Train :\",t1.cost_of_trip())"
      ],
      "execution_count": 2,
      "outputs": [
        {
          "output_type": "stream",
          "name": "stdout",
          "text": [
            "Cost to travel from Bus : 400\n",
            "Cost to travel from Train : 240\n"
          ]
        }
      ]
    },
    {
      "cell_type": "markdown",
      "metadata": {
        "id": "2uA7l5JbAmRX"
      },
      "source": [
        "problem 3:\n",
        "Assume that there a class Car with model number as its member variable. Write a python\n",
        "program to swap the values of model number in Car objects c1 and c2."
      ]
    },
    {
      "cell_type": "code",
      "metadata": {
        "colab": {
          "base_uri": "https://localhost:8080/"
        },
        "id": "SYgSKJGQAsj9",
        "outputId": "80e9e93c-0e33-49e3-f3f9-9b14c38cf892"
      },
      "source": [
        "class Car:\n",
        "    def __init__(self,model_number):\n",
        "        self.model_number=model_number\n",
        "def swap(m1,m2):\n",
        "    m1.model_number,m2.model_number=m2.model_number,m1.model_number\n",
        "\n",
        "c1=Car(\"scorpio3219\")\n",
        "c2=Car(\"scorpio5678\")\n",
        "print(\"model no. before swaping :{} and {}\".format(c1.model_number,c2.model_number))\n",
        "swap(c1,c2)\n",
        "print(\"model no. after swaping :{} and {}\".format(c1.model_number,c2.model_number))\n"
      ],
      "execution_count": 3,
      "outputs": [
        {
          "output_type": "stream",
          "name": "stdout",
          "text": [
            "model no. before swaping :scorpio3219 and scorpio5678\n",
            "model no. after swaping :scorpio5678 and scorpio3219\n"
          ]
        }
      ]
    }
  ]
}