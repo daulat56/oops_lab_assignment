{
  "nbformat": 4,
  "nbformat_minor": 0,
  "metadata": {
    "colab": {
      "name": "Untitled4.ipynb",
      "provenance": [],
      "toc_visible": true,
      "mount_file_id": "1FWawfPMAaeFjKjijrdPRl7XMRcTPfS5v",
      "authorship_tag": "ABX9TyPBT3ijn0xi0zEOboSKcohO",
      "include_colab_link": true
    },
    "kernelspec": {
      "name": "python3",
      "display_name": "Python 3"
    },
    "language_info": {
      "name": "python"
    }
  },
  "cells": [
    {
      "cell_type": "markdown",
      "metadata": {
        "id": "view-in-github",
        "colab_type": "text"
      },
      "source": [
        "<a href=\"https://colab.research.google.com/github/daulat56/oops_lab_assignment/blob/main/oop_task4.ipynb\" target=\"_parent\"><img src=\"https://colab.research.google.com/assets/colab-badge.svg\" alt=\"Open In Colab\"/></a>"
      ]
    },
    {
      "cell_type": "markdown",
      "metadata": {
        "id": "hGsw_NT5ctAp"
      },
      "source": [
        ""
      ]
    },
    {
      "cell_type": "markdown",
      "metadata": {
        "id": "W_uLg2ovcuuC"
      },
      "source": [
        "problem 1:performing stack"
      ]
    },
    {
      "cell_type": "code",
      "metadata": {
        "colab": {
          "base_uri": "https://localhost:8080/"
        },
        "id": "yBLR0kUdc7lR",
        "outputId": "e1b461d3-5622-4f53-de95-6cef46c67d87"
      },
      "source": [
        "class Node:\n",
        "  def __init__(self,data):\n",
        "    self.data = data\n",
        "    self.next = 0\n",
        "class stack(Node):\n",
        "  def __init__(self):\n",
        "    self.head = Node(\"head\")\n",
        "    self.size = 0\n",
        "  def checkempty(self):\n",
        "    p = self.Empty()\n",
        "    if p == 1:\n",
        "      print(\"Stack is empty\")\n",
        "    else:\n",
        "      print(\"Stack is not empty\")\n",
        "  def Empty(self):\n",
        "    return self.size == 0\n",
        "  def push(self, value):\n",
        "    p = Node(value)\n",
        "    p.next = self.head.next\n",
        "    self.head.next = p\n",
        "    self.size += 1\n",
        "  def pop(self):\n",
        "    if self.Empty():\n",
        "      print(\"Stack is empty\")\n",
        "    p = self.head.next\n",
        "    self.head.next = self.head.next.next\n",
        "    self.size -= 1\n",
        "    return p.data\n",
        "  def display(self):\n",
        "    next = self.head.next\n",
        "    print(\"Current stack is \")\n",
        "    while next:\n",
        "      print(next.data, end=\"\\n\")\n",
        "      next = next.next\n",
        "    print()\n",
        "  def __del__(self):\n",
        "    if not self.Empty():\n",
        "      next = self.head\n",
        "      while next:\n",
        "        p = next.next\n",
        "        del next\n",
        "        self.size -= 1\n",
        "        next = p\n",
        "\n",
        "s1 = stack()\n",
        "s1.checkempty()\n",
        "s1.push(3)\n",
        "s1.push(8)\n",
        "s1.push(0)\n",
        "s1.push(6)\n",
        "s1.display()\n",
        "s1.checkempty()\n",
        "p = s1.pop()\n",
        "print(p,\"is poped from  the stack \\n\")\n",
        "s1.display()"
      ],
      "execution_count": 1,
      "outputs": [
        {
          "output_type": "stream",
          "name": "stdout",
          "text": [
            "Stack is empty\n",
            "Current stack is \n",
            "6\n",
            "0\n",
            "8\n",
            "3\n",
            "\n",
            "Stack is not empty\n",
            "6 is poped from  the stack \n",
            "\n",
            "Current stack is \n",
            "0\n",
            "8\n",
            "3\n",
            "\n"
          ]
        }
      ]
    },
    {
      "cell_type": "markdown",
      "metadata": {
        "id": "vOWbRxKndM4D"
      },
      "source": [
        " 2. Write a python code to calculate the area of a rectangle using parametrized and default constructors."
      ]
    },
    {
      "cell_type": "code",
      "metadata": {
        "colab": {
          "base_uri": "https://localhost:8080/"
        },
        "id": "EjsMopZldi5J",
        "outputId": "4b35da00-e28c-4168-8c4a-add948b91ba3"
      },
      "source": [
        "class area:\n",
        "  def __init__(self):\n",
        "    pass\n",
        "  def val(self,lenght,width):\n",
        "    self.lenght = lenght\n",
        "    self.width = width\n",
        "  def area(self):\n",
        "    print(\"Area of rectangle  is :\",self.lenght * self.width)\n",
        "  \n",
        "class area_of_prameterised_Rec:\n",
        "  def __init__(self,lenght,width):\n",
        "    self.lenght = lenght\n",
        "    self.width = width    \n",
        "  def area(self):\n",
        "    print(\"Area of rectangle with paramerterised constructor is : \",self.lenght * self.width)\n",
        "  \n",
        "r1 = area()\n",
        "r1.val(7,3)\n",
        "r1.area()\n",
        "r2 = area_of_prameterised_Rec(7,2)\n",
        "r2.area()"
      ],
      "execution_count": 3,
      "outputs": [
        {
          "output_type": "stream",
          "name": "stdout",
          "text": [
            "Area of rectangle  is : 21\n",
            "Area of rectangle with paramerterised constructor is :  14\n"
          ]
        }
      ]
    },
    {
      "cell_type": "markdown",
      "metadata": {
        "id": "YqiNNwuReH2E"
      },
      "source": [
        "3. Write a python program to implement queue operations using constructors and destructors."
      ]
    },
    {
      "cell_type": "code",
      "metadata": {
        "colab": {
          "base_uri": "https://localhost:8080/"
        },
        "id": "6MN3h27xeRh9",
        "outputId": "9e3fd6f9-ecbd-4b2b-d60c-1231cc92fee0"
      },
      "source": [
        "class queue:\n",
        "  def __init__(self):\n",
        "    self.queue = []\n",
        "    print(\"Queue is cerated in the memory\")\n",
        "  def Empty(self):\n",
        "    return self.queue == []\n",
        "  def checkempty(self):\n",
        "    p = self.Empty()\n",
        "    if p == 1:\n",
        "      print(\"Queue is empty\")\n",
        "    else:\n",
        "      print(\"Queue is not empty\")\n",
        "  def enqueue(self,data):\n",
        "    self.queue.append(data)\n",
        "  def dequeue(self):\n",
        "    if self.Empty():\n",
        "      print(\"Queue is empty\")\n",
        "    else:\n",
        "      print(self.queue.pop(0),\"is dequeued from the queue\")\n",
        "  def display(self):\n",
        "    print(\"Current Queue is :\",self.queue)\n",
        "  def __del__(self):\n",
        "    print(\"Queue is removed form memory\")\n",
        "\n",
        "q1 = queue()\n",
        "q1.checkempty()\n",
        "q1.enqueue(9)\n",
        "q1.enqueue(6)\n",
        "q1.enqueue(1)\n",
        "q1.display()\n",
        "q1.checkempty()\n",
        "q1.dequeue()\n",
        "del q1"
      ],
      "execution_count": 4,
      "outputs": [
        {
          "output_type": "stream",
          "name": "stdout",
          "text": [
            "Queue is cerated in the memory\n",
            "Queue is empty\n",
            "Current Queue is : [9, 6, 1]\n",
            "Queue is not empty\n",
            "9 is dequeued from the queue\n",
            "Queue is removed form memory\n"
          ]
        }
      ]
    },
    {
      "cell_type": "code",
      "metadata": {
        "id": "X3-BV6SKeeaC"
      },
      "source": [
        "from google.colab import drive\n",
        "drive.mount('/content/drive')"
      ],
      "execution_count": null,
      "outputs": []
    }
  ]
}